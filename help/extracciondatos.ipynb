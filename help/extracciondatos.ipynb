{
 "cells": [
  {
   "cell_type": "code",
   "execution_count": 6,
   "metadata": {},
   "outputs": [
    {
     "name": "stdout",
     "output_type": "stream",
     "text": [
      "Error de conexión: ('IM002', '[IM002] [Microsoft][Administrador de controladores ODBC] No se encuentra el nombre del origen de datos y no se especificó ningún controlador predeterminado (0) (SQLDriverConnect)')\n"
     ]
    }
   ],
   "source": [
    "import pyodbc\n",
    "import pandas as pd\n",
    "\n",
    "# Configuración de conexión a Azure SQL con AAD\n",
    "SERVER = 'uaxmathfis.database.windows.net'\n",
    "DATABASE = 'usecases'\n",
    "DRIVER = '{ODBC Driver 18 for SQL Server}'\n",
    "\n",
    "# Usar autenticación interactiva de Azure Active Directory (abre una ventana de login)\n",
    "conn_str = f\"DRIVER={DRIVER};SERVER={SERVER};DATABASE={DATABASE};Authentication=ActiveDirectoryInteractive\"\n",
    "\n",
    "try:\n",
    "    conn = pyodbc.connect(conn_str)\n",
    "    sql_query = \"\"\"\n",
    "    SELECT * FROM [usecases].DATAEX.[MMM01_WEB];\n",
    "    SELECT * FROM [usecases].DATAEX.[MMM02_VISIT];\n",
    "    SELECT * FROM [usecases].DATAEX.[MMM03_OFFLINE];\n",
    "    SELECT * FROM [usecases].DATAEX.[MMM04_TIME];\n",
    "    SELECT * FROM [usecases].DATAEX.[MMM05_INV]\n",
    "    \"\"\"\n",
    "    data = pd.read_sql(sql_query, conn)\n",
    "\n",
    "    print(data.head())\n",
    "    print(\"Conexión exitosa con Azure SQL usando AAD (interactivo).\")\n",
    "\n",
    "    # Ruta de exportación\n",
    "    csv_path = r\"C:\\Users\\1cnac\\OneDrive\\Documentos\\INGENIERÍA MATEMÁTICA\\Inteligencia Artificial\\Caso-2-MMM\\docs\\MMM.csv\"\n",
    "    \n",
    "    # Exportar a CSV\n",
    "    data.to_csv(csv_path, index=False, encoding='utf-8-sig')\n",
    "    print(f\"Datos exportados exitosamente a: {csv_path}\")\n",
    "\n",
    "except Exception as e:\n",
    "    print(f\"Error de conexión: {e}\")"
   ]
  }
 ],
 "metadata": {
  "kernelspec": {
   "display_name": "env",
   "language": "python",
   "name": "python3"
  },
  "language_info": {
   "codemirror_mode": {
    "name": "ipython",
    "version": 3
   },
   "file_extension": ".py",
   "mimetype": "text/x-python",
   "name": "python",
   "nbconvert_exporter": "python",
   "pygments_lexer": "ipython3",
   "version": "3.12.6"
  }
 },
 "nbformat": 4,
 "nbformat_minor": 2
}
