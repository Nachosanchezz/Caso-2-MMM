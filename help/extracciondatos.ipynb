{
 "cells": [
  {
   "cell_type": "code",
   "execution_count": 1,
   "metadata": {},
   "outputs": [
    {
     "name": "stdout",
     "output_type": "stream",
     "text": [
      "Requirement already satisfied: pyodbc in c:\\users\\1cnac\\onedrive\\documentos\\ingeniería matemática\\inteligencia artificial\\caso-2-mmm\\env\\lib\\site-packages (5.2.0)\n"
     ]
    }
   ],
   "source": [
    "!pip install pyodbc"
   ]
  },
  {
   "cell_type": "code",
   "execution_count": 2,
   "metadata": {},
   "outputs": [
    {
     "name": "stderr",
     "output_type": "stream",
     "text": [
      "C:\\Users\\1cnac\\AppData\\Local\\Temp\\ipykernel_22908\\2433380928.py:21: UserWarning: pandas only supports SQLAlchemy connectable (engine/connection) or database string URI or sqlite3 DBAPI2 connection. Other DBAPI2 objects are not tested. Please consider using SQLAlchemy.\n",
      "  data = pd.read_sql(sql_query, conn)\n"
     ]
    },
    {
     "name": "stdout",
     "output_type": "stream",
     "text": [
      "   ID_Date  Unique_visitors  PDFBrochuresDownloaded  ProductConfigurator  \\\n",
      "0   202201           272382                    4838                33222   \n",
      "1   202202           352581                    5823                38570   \n",
      "2   202203           332955                    4845                33956   \n",
      "3   202204           282169                    3711                45949   \n",
      "4   202205           261829                    9037                48685   \n",
      "\n",
      "   Product_configurator_Visists  SocialNetworks  DirectTraffic  EMail  \\\n",
      "0                         94248            1415          65373     25   \n",
      "1                        109531             546          77209     26   \n",
      "2                         97805            5444          83178    341   \n",
      "3                         90689            1184          69335    162   \n",
      "4                         92069            8648          70972    210   \n",
      "\n",
      "   NaturalSearch  OnlineMedia  OtherReferrer  PaidSearch  \n",
      "0         167199        63649          39808       13798  \n",
      "1         176733       124861          45543       28656  \n",
      "2         173514       104132          43583       15243  \n",
      "3         162805        74044          39650       18510  \n",
      "4         156011        44196          40472       20031  \n",
      "Conexión exitosa con Azure SQL usando AAD (interactivo).\n",
      "Datos exportados exitosamente a: C:\\Users\\1cnac\\OneDrive\\Documentos\\INGENIERÍA MATEMÁTICA\\Inteligencia Artificial\\Caso-2-MMM\\docs\\MMM.csv\n"
     ]
    }
   ],
   "source": [
    "import pyodbc\n",
    "import pandas as pd\n",
    "\n",
    "# Configuración de conexión a Azure SQL con AAD\n",
    "SERVER = 'uaxmathfis.database.windows.net'\n",
    "DATABASE = 'usecases'\n",
    "DRIVER = '{ODBC Driver 17 for SQL Server}'\n",
    "\n",
    "# Usar autenticación interactiva de Azure Active Directory (abre una ventana de login)\n",
    "conn_str = f\"DRIVER={DRIVER};SERVER={SERVER};DATABASE={DATABASE};Authentication=ActiveDirectoryInteractive\"\n",
    "\n",
    "try:\n",
    "    conn = pyodbc.connect(conn_str)\n",
    "    sql_query = \"\"\"\n",
    "    SELECT * FROM [usecases].DATAEX.[MMM01_WEB];\n",
    "    SELECT * FROM [usecases].DATAEX.[MMM02_VISIT];\n",
    "    SELECT * FROM [usecases].DATAEX.[MMM03_OFFLINE];\n",
    "    SELECT * FROM [usecases].DATAEX.[MMM04_TIME];\n",
    "    SELECT * FROM [usecases].DATAEX.[MMM05_INV]\n",
    "    \"\"\"\n",
    "    data = pd.read_sql(sql_query, conn)\n",
    "\n",
    "    print(data.head())\n",
    "    print(\"Conexión exitosa con Azure SQL usando AAD (interactivo).\")\n",
    "\n",
    "    # Ruta de exportación\n",
    "    csv_path = r\"C:\\Users\\1cnac\\OneDrive\\Documentos\\INGENIERÍA MATEMÁTICA\\Inteligencia Artificial\\Caso-2-MMM\\docs\\MMM.csv\"\n",
    "    \n",
    "    # Exportar a CSV\n",
    "    data.to_csv(csv_path, index=False, encoding='utf-8-sig')\n",
    "    print(f\"Datos exportados exitosamente a: {csv_path}\")\n",
    "\n",
    "except Exception as e:\n",
    "    print(f\"Error de conexión: {e}\")"
   ]
  }
 ],
 "metadata": {
  "kernelspec": {
   "display_name": "env",
   "language": "python",
   "name": "python3"
  },
  "language_info": {
   "codemirror_mode": {
    "name": "ipython",
    "version": 3
   },
   "file_extension": ".py",
   "mimetype": "text/x-python",
   "name": "python",
   "nbconvert_exporter": "python",
   "pygments_lexer": "ipython3",
   "version": "3.10.0"
  }
 },
 "nbformat": 4,
 "nbformat_minor": 2
}
